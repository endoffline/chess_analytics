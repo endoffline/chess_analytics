{
  "cells": [
    {
      "cell_type": "code",
      "execution_count": 1,
      "metadata": {
        "collapsed": true,
        "pycharm": {
          "is_executing": false
        }
      },
      "outputs": [],
      "source": "import sqlite3\nimport pandas as pd\nimport matplotlib as rc\nimport matplotlib.pyplot as plt\nimport seaborn as sns\nimport numpy as np\n"
    },
    {
      "cell_type": "code",
      "execution_count": 2,
      "outputs": [],
      "source": "#------------------------------------------------------------------------------\n# accept a dataframe, remove outliers, return cleaned data in a new dataframe\n# see http://www.itl.nist.gov/div898/handbook/prc/section1/prc16.htm\n#------------------------------------------------------------------------------\ndef remove_outlier(df_in, col_name):\n    q1 \u003d df_in[col_name].quantile(0.25)\n    q3 \u003d df_in[col_name].quantile(0.75)\n    iqr \u003d q3-q1 #Interquartile range\n    fence_low  \u003d q1-1.5*iqr\n    fence_high \u003d q3+1.5*iqr\n    df_out \u003d df_in.loc[(df_in[col_name] \u003e fence_low) \u0026 (df_in[col_name] \u003c fence_high)]\n    return df_out\n\n# set style for seaborn\nsns.set_style(\"whitegrid\")\nsns.set_context(\"paper\")\nrc.use(\"pgf\")\nrc.rcParams.update({\n    \"pgf.texsystem\": \"pdflatex\",\n    \u0027font.family\u0027: \u0027serif\u0027,\n    \u0027text.usetex\u0027: True,\n    \u0027pgf.rcfonts\u0027: False,\n})\n#plt.rc(\u0027text\u0027, usetex\u003dTrue)\n#plt.rc(\u0027font\u0027, family\u003d\u0027serif\u0027)\n",
      "metadata": {
        "pycharm": {
          "metadata": false,
          "name": "#%%\n",
          "is_executing": false
        }
      }
    },
    {
      "cell_type": "code",
      "execution_count": 3,
      "outputs": [],
      "source": "# connect to database\nconnection \u003d sqlite3.connect(\"../output/db/repeated_bulk_analysis_2019-08-28.db\")\n",
      "metadata": {
        "pycharm": {
          "metadata": false,
          "name": "#%%\n",
          "is_executing": false
        }
      }
    },
    {
      "cell_type": "code",
      "execution_count": 4,
      "outputs": [
        {
          "data": {
            "text/plain": "             10ms        20ms        50ms       100ms       200ms       500ms  \\\ncount  311.000000  311.000000  311.000000  311.000000  311.000000  311.000000   \nmean    34.003215   32.588424   31.572347   32.372990   30.906752   27.147910   \nstd     23.366574   20.509739   22.465610   23.516688   19.588533   19.435186   \nmin      0.000000    0.000000    0.000000    0.000000    0.000000    0.000000   \n25%     19.000000   20.000000   19.000000   19.000000   19.500000   16.000000   \n50%     30.000000   30.000000   30.000000   29.000000   29.000000   24.000000   \n75%     45.500000   42.000000   41.000000   42.000000   41.000000   34.000000   \nmax    203.000000  127.000000  193.000000  198.000000  143.000000  163.000000   \n\n           1000ms      2000ms        15 d        20 d  \ncount  311.000000  311.000000  311.000000  311.000000  \nmean    25.099678   23.546624   28.919614   24.601286  \nstd     17.010614   17.201564   19.152107   16.003080  \nmin      0.000000    0.000000    0.000000    0.000000  \n25%     14.000000   14.000000   18.000000   15.000000  \n50%     23.000000   22.000000   26.000000   23.000000  \n75%     33.000000   30.000000   38.000000   33.000000  \nmax    111.000000  140.000000  143.000000   83.000000  ",
            "text/html": "\u003cdiv\u003e\n\u003cstyle scoped\u003e\n    .dataframe tbody tr th:only-of-type {\n        vertical-align: middle;\n    }\n\n    .dataframe tbody tr th {\n        vertical-align: top;\n    }\n\n    .dataframe thead th {\n        text-align: right;\n    }\n\u003c/style\u003e\n\u003ctable border\u003d\"1\" class\u003d\"dataframe\"\u003e\n  \u003cthead\u003e\n    \u003ctr style\u003d\"text-align: right;\"\u003e\n      \u003cth\u003e\u003c/th\u003e\n      \u003cth\u003e10ms\u003c/th\u003e\n      \u003cth\u003e20ms\u003c/th\u003e\n      \u003cth\u003e50ms\u003c/th\u003e\n      \u003cth\u003e100ms\u003c/th\u003e\n      \u003cth\u003e200ms\u003c/th\u003e\n      \u003cth\u003e500ms\u003c/th\u003e\n      \u003cth\u003e1000ms\u003c/th\u003e\n      \u003cth\u003e2000ms\u003c/th\u003e\n      \u003cth\u003e15 d\u003c/th\u003e\n      \u003cth\u003e20 d\u003c/th\u003e\n    \u003c/tr\u003e\n  \u003c/thead\u003e\n  \u003ctbody\u003e\n    \u003ctr\u003e\n      \u003cth\u003ecount\u003c/th\u003e\n      \u003ctd\u003e311.000000\u003c/td\u003e\n      \u003ctd\u003e311.000000\u003c/td\u003e\n      \u003ctd\u003e311.000000\u003c/td\u003e\n      \u003ctd\u003e311.000000\u003c/td\u003e\n      \u003ctd\u003e311.000000\u003c/td\u003e\n      \u003ctd\u003e311.000000\u003c/td\u003e\n      \u003ctd\u003e311.000000\u003c/td\u003e\n      \u003ctd\u003e311.000000\u003c/td\u003e\n      \u003ctd\u003e311.000000\u003c/td\u003e\n      \u003ctd\u003e311.000000\u003c/td\u003e\n    \u003c/tr\u003e\n    \u003ctr\u003e\n      \u003cth\u003emean\u003c/th\u003e\n      \u003ctd\u003e34.003215\u003c/td\u003e\n      \u003ctd\u003e32.588424\u003c/td\u003e\n      \u003ctd\u003e31.572347\u003c/td\u003e\n      \u003ctd\u003e32.372990\u003c/td\u003e\n      \u003ctd\u003e30.906752\u003c/td\u003e\n      \u003ctd\u003e27.147910\u003c/td\u003e\n      \u003ctd\u003e25.099678\u003c/td\u003e\n      \u003ctd\u003e23.546624\u003c/td\u003e\n      \u003ctd\u003e28.919614\u003c/td\u003e\n      \u003ctd\u003e24.601286\u003c/td\u003e\n    \u003c/tr\u003e\n    \u003ctr\u003e\n      \u003cth\u003estd\u003c/th\u003e\n      \u003ctd\u003e23.366574\u003c/td\u003e\n      \u003ctd\u003e20.509739\u003c/td\u003e\n      \u003ctd\u003e22.465610\u003c/td\u003e\n      \u003ctd\u003e23.516688\u003c/td\u003e\n      \u003ctd\u003e19.588533\u003c/td\u003e\n      \u003ctd\u003e19.435186\u003c/td\u003e\n      \u003ctd\u003e17.010614\u003c/td\u003e\n      \u003ctd\u003e17.201564\u003c/td\u003e\n      \u003ctd\u003e19.152107\u003c/td\u003e\n      \u003ctd\u003e16.003080\u003c/td\u003e\n    \u003c/tr\u003e\n    \u003ctr\u003e\n      \u003cth\u003emin\u003c/th\u003e\n      \u003ctd\u003e0.000000\u003c/td\u003e\n      \u003ctd\u003e0.000000\u003c/td\u003e\n      \u003ctd\u003e0.000000\u003c/td\u003e\n      \u003ctd\u003e0.000000\u003c/td\u003e\n      \u003ctd\u003e0.000000\u003c/td\u003e\n      \u003ctd\u003e0.000000\u003c/td\u003e\n      \u003ctd\u003e0.000000\u003c/td\u003e\n      \u003ctd\u003e0.000000\u003c/td\u003e\n      \u003ctd\u003e0.000000\u003c/td\u003e\n      \u003ctd\u003e0.000000\u003c/td\u003e\n    \u003c/tr\u003e\n    \u003ctr\u003e\n      \u003cth\u003e25%\u003c/th\u003e\n      \u003ctd\u003e19.000000\u003c/td\u003e\n      \u003ctd\u003e20.000000\u003c/td\u003e\n      \u003ctd\u003e19.000000\u003c/td\u003e\n      \u003ctd\u003e19.000000\u003c/td\u003e\n      \u003ctd\u003e19.500000\u003c/td\u003e\n      \u003ctd\u003e16.000000\u003c/td\u003e\n      \u003ctd\u003e14.000000\u003c/td\u003e\n      \u003ctd\u003e14.000000\u003c/td\u003e\n      \u003ctd\u003e18.000000\u003c/td\u003e\n      \u003ctd\u003e15.000000\u003c/td\u003e\n    \u003c/tr\u003e\n    \u003ctr\u003e\n      \u003cth\u003e50%\u003c/th\u003e\n      \u003ctd\u003e30.000000\u003c/td\u003e\n      \u003ctd\u003e30.000000\u003c/td\u003e\n      \u003ctd\u003e30.000000\u003c/td\u003e\n      \u003ctd\u003e29.000000\u003c/td\u003e\n      \u003ctd\u003e29.000000\u003c/td\u003e\n      \u003ctd\u003e24.000000\u003c/td\u003e\n      \u003ctd\u003e23.000000\u003c/td\u003e\n      \u003ctd\u003e22.000000\u003c/td\u003e\n      \u003ctd\u003e26.000000\u003c/td\u003e\n      \u003ctd\u003e23.000000\u003c/td\u003e\n    \u003c/tr\u003e\n    \u003ctr\u003e\n      \u003cth\u003e75%\u003c/th\u003e\n      \u003ctd\u003e45.500000\u003c/td\u003e\n      \u003ctd\u003e42.000000\u003c/td\u003e\n      \u003ctd\u003e41.000000\u003c/td\u003e\n      \u003ctd\u003e42.000000\u003c/td\u003e\n      \u003ctd\u003e41.000000\u003c/td\u003e\n      \u003ctd\u003e34.000000\u003c/td\u003e\n      \u003ctd\u003e33.000000\u003c/td\u003e\n      \u003ctd\u003e30.000000\u003c/td\u003e\n      \u003ctd\u003e38.000000\u003c/td\u003e\n      \u003ctd\u003e33.000000\u003c/td\u003e\n    \u003c/tr\u003e\n    \u003ctr\u003e\n      \u003cth\u003emax\u003c/th\u003e\n      \u003ctd\u003e203.000000\u003c/td\u003e\n      \u003ctd\u003e127.000000\u003c/td\u003e\n      \u003ctd\u003e193.000000\u003c/td\u003e\n      \u003ctd\u003e198.000000\u003c/td\u003e\n      \u003ctd\u003e143.000000\u003c/td\u003e\n      \u003ctd\u003e163.000000\u003c/td\u003e\n      \u003ctd\u003e111.000000\u003c/td\u003e\n      \u003ctd\u003e140.000000\u003c/td\u003e\n      \u003ctd\u003e143.000000\u003c/td\u003e\n      \u003ctd\u003e83.000000\u003c/td\u003e\n    \u003c/tr\u003e\n  \u003c/tbody\u003e\n\u003c/table\u003e\n\u003c/div\u003e"
          },
          "metadata": {},
          "output_type": "execute_result",
          "execution_count": 4
        }
      ],
      "source": "# load games and moves into dataframes \ndf_score \u003d pd.read_sql(\"SELECT MAX(score_b0010) - MIN(score_b0010) as \u002710ms\u0027, MAX(score_b0020) - MIN(score_b0020) as \u002720ms\u0027, MAX(score_b0050) - MIN(score_b0050) as \u002750ms\u0027, MAX(score_b0100) - MIN(score_b0100) as \u0027100ms\u0027, MAX(score_b0200) - MIN(score_b0200) as \u0027200ms\u0027, MAX(score_b0500) - MIN(score_b0500) as \u0027500ms\u0027, MAX(score_b1000) - MIN(score_b1000) as \u00271000ms\u0027, MAX(score_b2000) - MIN(score_b2000) as \u00272000ms\u0027, MAX(score_b10) - MIN(score_b10) as \u002715 d\u0027, MAX(score_b20) - MIN(score_b20) as \u002720 d\u0027 FROM score JOIN move ON score.move_id \u003d move.id GROUP BY move.game_id, move.ply_number\", connection)\ndf_score.describe()",
      "metadata": {
        "pycharm": {
          "metadata": false,
          "name": "#%%\n",
          "is_executing": false
        }
      }
    },
    {
      "cell_type": "code",
      "execution_count": 5,
      "outputs": [
        {
          "data": {
            "text/plain": "Text(0.5, 1.0, \u0027Comparison between the different input parameters for the score evaluation.\u0027)"
          },
          "metadata": {},
          "output_type": "execute_result",
          "execution_count": 5
        }
      ],
      "source": "plt.figure(figsize\u003d(7, 3))\nboxplot_score \u003d sns.boxplot(x\u003d\"variable\", y\u003d\"value\", data\u003dpd.melt(df_score))\nboxplot_score.set_xlabel(\"milliseconds and depth\")\nboxplot_score.set_ylabel(\"centipawn\")\nboxplot_score.set_title(\"Comparison between the different input parameters for the score evaluation.\")\n#sns.set_xlabel([\"10ms\", \"20ms\", \"50ms\", \"100ms\", \"200ms\", \"500ms\", \"1000ms\", \"2000ms\", \"5000ms\", \"15 depth\", \"20 depth\"])",
      "metadata": {
        "pycharm": {
          "metadata": false,
          "name": "#%%\n",
          "is_executing": false
        }
      }
    },
    {
      "cell_type": "code",
      "execution_count": 6,
      "outputs": [],
      "source": "fig \u003d boxplot_score.get_figure()\nfig.tight_layout()\nfig.savefig(\"boxplot_score.pgf\")\nfig.savefig(\"boxplot_score.pdf\")\n",
      "metadata": {
        "pycharm": {
          "metadata": false,
          "name": "#%%\n",
          "is_executing": false
        }
      }
    },
    {
      "cell_type": "code",
      "execution_count": 7,
      "outputs": [
        {
          "data": {
            "text/plain": "             10ms        20ms        50ms       100ms       200ms       500ms  \\\ncount  311.000000  311.000000  311.000000  311.000000  311.000000  311.000000   \nmean    34.003215   32.588424   31.572347   32.372990   30.906752   27.147910   \nstd     23.366574   20.509739   22.465610   23.516688   19.588533   19.435186   \nmin      0.000000    0.000000    0.000000    0.000000    0.000000    0.000000   \n25%     19.000000   20.000000   19.000000   19.000000   19.500000   16.000000   \n50%     30.000000   30.000000   30.000000   29.000000   29.000000   24.000000   \n75%     45.500000   42.000000   41.000000   42.000000   41.000000   34.000000   \nmax    203.000000  127.000000  193.000000  198.000000  143.000000  163.000000   \n\n           1000ms      2000ms        15 d        20 d  \ncount  311.000000  311.000000  311.000000  311.000000  \nmean    25.099678   23.546624   28.919614   24.601286  \nstd     17.010614   17.201564   19.152107   16.003080  \nmin      0.000000    0.000000    0.000000    0.000000  \n25%     14.000000   14.000000   18.000000   15.000000  \n50%     23.000000   22.000000   26.000000   23.000000  \n75%     33.000000   30.000000   38.000000   33.000000  \nmax    111.000000  140.000000  143.000000   83.000000  ",
            "text/html": "\u003cdiv\u003e\n\u003cstyle scoped\u003e\n    .dataframe tbody tr th:only-of-type {\n        vertical-align: middle;\n    }\n\n    .dataframe tbody tr th {\n        vertical-align: top;\n    }\n\n    .dataframe thead th {\n        text-align: right;\n    }\n\u003c/style\u003e\n\u003ctable border\u003d\"1\" class\u003d\"dataframe\"\u003e\n  \u003cthead\u003e\n    \u003ctr style\u003d\"text-align: right;\"\u003e\n      \u003cth\u003e\u003c/th\u003e\n      \u003cth\u003e10ms\u003c/th\u003e\n      \u003cth\u003e20ms\u003c/th\u003e\n      \u003cth\u003e50ms\u003c/th\u003e\n      \u003cth\u003e100ms\u003c/th\u003e\n      \u003cth\u003e200ms\u003c/th\u003e\n      \u003cth\u003e500ms\u003c/th\u003e\n      \u003cth\u003e1000ms\u003c/th\u003e\n      \u003cth\u003e2000ms\u003c/th\u003e\n      \u003cth\u003e15 d\u003c/th\u003e\n      \u003cth\u003e20 d\u003c/th\u003e\n    \u003c/tr\u003e\n  \u003c/thead\u003e\n  \u003ctbody\u003e\n    \u003ctr\u003e\n      \u003cth\u003ecount\u003c/th\u003e\n      \u003ctd\u003e311.000000\u003c/td\u003e\n      \u003ctd\u003e311.000000\u003c/td\u003e\n      \u003ctd\u003e311.000000\u003c/td\u003e\n      \u003ctd\u003e311.000000\u003c/td\u003e\n      \u003ctd\u003e311.000000\u003c/td\u003e\n      \u003ctd\u003e311.000000\u003c/td\u003e\n      \u003ctd\u003e311.000000\u003c/td\u003e\n      \u003ctd\u003e311.000000\u003c/td\u003e\n      \u003ctd\u003e311.000000\u003c/td\u003e\n      \u003ctd\u003e311.000000\u003c/td\u003e\n    \u003c/tr\u003e\n    \u003ctr\u003e\n      \u003cth\u003emean\u003c/th\u003e\n      \u003ctd\u003e34.003215\u003c/td\u003e\n      \u003ctd\u003e32.588424\u003c/td\u003e\n      \u003ctd\u003e31.572347\u003c/td\u003e\n      \u003ctd\u003e32.372990\u003c/td\u003e\n      \u003ctd\u003e30.906752\u003c/td\u003e\n      \u003ctd\u003e27.147910\u003c/td\u003e\n      \u003ctd\u003e25.099678\u003c/td\u003e\n      \u003ctd\u003e23.546624\u003c/td\u003e\n      \u003ctd\u003e28.919614\u003c/td\u003e\n      \u003ctd\u003e24.601286\u003c/td\u003e\n    \u003c/tr\u003e\n    \u003ctr\u003e\n      \u003cth\u003estd\u003c/th\u003e\n      \u003ctd\u003e23.366574\u003c/td\u003e\n      \u003ctd\u003e20.509739\u003c/td\u003e\n      \u003ctd\u003e22.465610\u003c/td\u003e\n      \u003ctd\u003e23.516688\u003c/td\u003e\n      \u003ctd\u003e19.588533\u003c/td\u003e\n      \u003ctd\u003e19.435186\u003c/td\u003e\n      \u003ctd\u003e17.010614\u003c/td\u003e\n      \u003ctd\u003e17.201564\u003c/td\u003e\n      \u003ctd\u003e19.152107\u003c/td\u003e\n      \u003ctd\u003e16.003080\u003c/td\u003e\n    \u003c/tr\u003e\n    \u003ctr\u003e\n      \u003cth\u003emin\u003c/th\u003e\n      \u003ctd\u003e0.000000\u003c/td\u003e\n      \u003ctd\u003e0.000000\u003c/td\u003e\n      \u003ctd\u003e0.000000\u003c/td\u003e\n      \u003ctd\u003e0.000000\u003c/td\u003e\n      \u003ctd\u003e0.000000\u003c/td\u003e\n      \u003ctd\u003e0.000000\u003c/td\u003e\n      \u003ctd\u003e0.000000\u003c/td\u003e\n      \u003ctd\u003e0.000000\u003c/td\u003e\n      \u003ctd\u003e0.000000\u003c/td\u003e\n      \u003ctd\u003e0.000000\u003c/td\u003e\n    \u003c/tr\u003e\n    \u003ctr\u003e\n      \u003cth\u003e25%\u003c/th\u003e\n      \u003ctd\u003e19.000000\u003c/td\u003e\n      \u003ctd\u003e20.000000\u003c/td\u003e\n      \u003ctd\u003e19.000000\u003c/td\u003e\n      \u003ctd\u003e19.000000\u003c/td\u003e\n      \u003ctd\u003e19.500000\u003c/td\u003e\n      \u003ctd\u003e16.000000\u003c/td\u003e\n      \u003ctd\u003e14.000000\u003c/td\u003e\n      \u003ctd\u003e14.000000\u003c/td\u003e\n      \u003ctd\u003e18.000000\u003c/td\u003e\n      \u003ctd\u003e15.000000\u003c/td\u003e\n    \u003c/tr\u003e\n    \u003ctr\u003e\n      \u003cth\u003e50%\u003c/th\u003e\n      \u003ctd\u003e30.000000\u003c/td\u003e\n      \u003ctd\u003e30.000000\u003c/td\u003e\n      \u003ctd\u003e30.000000\u003c/td\u003e\n      \u003ctd\u003e29.000000\u003c/td\u003e\n      \u003ctd\u003e29.000000\u003c/td\u003e\n      \u003ctd\u003e24.000000\u003c/td\u003e\n      \u003ctd\u003e23.000000\u003c/td\u003e\n      \u003ctd\u003e22.000000\u003c/td\u003e\n      \u003ctd\u003e26.000000\u003c/td\u003e\n      \u003ctd\u003e23.000000\u003c/td\u003e\n    \u003c/tr\u003e\n    \u003ctr\u003e\n      \u003cth\u003e75%\u003c/th\u003e\n      \u003ctd\u003e45.500000\u003c/td\u003e\n      \u003ctd\u003e42.000000\u003c/td\u003e\n      \u003ctd\u003e41.000000\u003c/td\u003e\n      \u003ctd\u003e42.000000\u003c/td\u003e\n      \u003ctd\u003e41.000000\u003c/td\u003e\n      \u003ctd\u003e34.000000\u003c/td\u003e\n      \u003ctd\u003e33.000000\u003c/td\u003e\n      \u003ctd\u003e30.000000\u003c/td\u003e\n      \u003ctd\u003e38.000000\u003c/td\u003e\n      \u003ctd\u003e33.000000\u003c/td\u003e\n    \u003c/tr\u003e\n    \u003ctr\u003e\n      \u003cth\u003emax\u003c/th\u003e\n      \u003ctd\u003e203.000000\u003c/td\u003e\n      \u003ctd\u003e127.000000\u003c/td\u003e\n      \u003ctd\u003e193.000000\u003c/td\u003e\n      \u003ctd\u003e198.000000\u003c/td\u003e\n      \u003ctd\u003e143.000000\u003c/td\u003e\n      \u003ctd\u003e163.000000\u003c/td\u003e\n      \u003ctd\u003e111.000000\u003c/td\u003e\n      \u003ctd\u003e140.000000\u003c/td\u003e\n      \u003ctd\u003e143.000000\u003c/td\u003e\n      \u003ctd\u003e83.000000\u003c/td\u003e\n    \u003c/tr\u003e\n  \u003c/tbody\u003e\n\u003c/table\u003e\n\u003c/div\u003e"
          },
          "metadata": {},
          "output_type": "execute_result",
          "execution_count": 7
        }
      ],
      "source": "df_score.describe()\n",
      "metadata": {
        "pycharm": {
          "metadata": false,
          "name": "#%%\n",
          "is_executing": false
        }
      }
    },
    {
      "cell_type": "code",
      "execution_count": 8,
      "outputs": [],
      "source": "df_timing_score \u003d pd.read_sql(\"SELECT score_b0010 as \u002710ms\u0027, score_b0020 as \u002720ms\u0027, score_b0050 as \u002750ms\u0027, score_b0100 as \u0027100ms\u0027, score_b0200 as \u0027200ms\u0027, score_b0500 as \u0027500ms\u0027, score_b1000 as \u00271000ms\u0027, score_b2000 as \u00272000ms\u0027, score_b10 as \u002715 d\u0027, score_b20 as \u002720 d\u0027 FROM timing_score\", connection)\n",
      "metadata": {
        "pycharm": {
          "metadata": false,
          "name": "#%%\n",
          "is_executing": false
        }
      }
    },
    {
      "cell_type": "code",
      "execution_count": 11,
      "outputs": [
        {
          "data": {
            "text/plain": "Text(0.5, 1.0, \u0027Time comparison.\u0027)"
          },
          "metadata": {},
          "output_type": "execute_result",
          "execution_count": 11
        }
      ],
      "source": "plt.figure(figsize\u003d(3, 3))\nboxplot_timing \u003d sns.boxplot(x\u003d\"variable\", y\u003d\"value\", data\u003dpd.melt(df_timing_score[[\u002715 d\u0027, \u002720 d\u0027]]))\nboxplot_timing.set_xlabel(\"depth\")\nboxplot_timing.set_ylabel(\"seconds\")\nboxplot_timing.set_title(\"Time comparison.\")",
      "metadata": {
        "pycharm": {
          "metadata": false,
          "name": "#%%\n",
          "is_executing": false
        }
      }
    },
    {
      "cell_type": "code",
      "execution_count": 12,
      "outputs": [],
      "source": "fig \u003d boxplot_timing.get_figure()\nfig.tight_layout()\nfig.savefig(\"boxplot_timing.pgf\")\nfig.savefig(\"boxplot_timing.pdf\")",
      "metadata": {
        "pycharm": {
          "metadata": false,
          "name": "#%%\n",
          "is_executing": false
        }
      }
    },
    {
      "cell_type": "code",
      "execution_count": null,
      "outputs": [],
      "source": "\n",
      "metadata": {
        "pycharm": {
          "metadata": false,
          "name": "#%%\n"
        }
      }
    }
  ],
  "metadata": {
    "language_info": {
      "codemirror_mode": {
        "name": "ipython",
        "version": 2
      },
      "file_extension": ".py",
      "mimetype": "text/x-python",
      "name": "python",
      "nbconvert_exporter": "python",
      "pygments_lexer": "ipython2",
      "version": "2.7.6"
    },
    "kernelspec": {
      "name": "python3",
      "language": "python",
      "display_name": "Python 3"
    }
  },
  "nbformat": 4,
  "nbformat_minor": 0
}