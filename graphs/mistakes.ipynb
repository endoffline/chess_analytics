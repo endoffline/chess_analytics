{
  "cells": [
    {
      "cell_type": "code",
      "execution_count": 1,
      "metadata": {
        "collapsed": true,
        "pycharm": {
          "is_executing": false
        }
      },
      "outputs": [],
      "source": "import sqlite3\nimport pandas as pd\nimport matplotlib as rc\nimport matplotlib.pyplot as plt\nimport seaborn as sns\nimport numpy as np\n"
    },
    {
      "cell_type": "code",
      "execution_count": 2,
      "outputs": [],
      "source": "#------------------------------------------------------------------------------\n# accept a dataframe, remove outliers, return cleaned data in a new dataframe\n# see http://www.itl.nist.gov/div898/handbook/prc/section1/prc16.htm\n#------------------------------------------------------------------------------\ndef remove_outlier(df_in, col_name):\n    q1 \u003d df_in[col_name].quantile(0.25)\n    q3 \u003d df_in[col_name].quantile(0.75)\n    iqr \u003d q3-q1 #Interquartile range\n    fence_low  \u003d q1-1.5*iqr\n    fence_high \u003d q3+1.5*iqr\n    df_out \u003d df_in.loc[(df_in[col_name] \u003e fence_low) \u0026 (df_in[col_name] \u003c fence_high)]\n    return df_out\n\n# set style for seaborn\nsns.set_style(\"whitegrid\")\nsns.set_context(\"paper\")\nrc.use(\"pgf\")\nrc.rcParams.update({\n    \"pgf.texsystem\": \"pdflatex\",\n    \u0027font.family\u0027: \u0027serif\u0027,\n    \u0027text.usetex\u0027: True,\n    \u0027pgf.rcfonts\u0027: False,\n})\n#plt.rc(\u0027text\u0027, usetex\u003dTrue)\n#plt.rc(\u0027font\u0027, family\u003d\u0027serif\u0027)\n",
      "metadata": {
        "pycharm": {
          "metadata": false,
          "name": "#%%\n",
          "is_executing": false
        }
      }
    },
    {
      "cell_type": "code",
      "execution_count": 3,
      "outputs": [],
      "source": "# connect to database\nconnection \u003d sqlite3.connect(\"../output/db/bulk_analysis_2019-11-08_1000ms.db\")\n",
      "metadata": {
        "pycharm": {
          "metadata": false,
          "name": "#%%\n",
          "is_executing": false
        }
      }
    },
    {
      "cell_type": "code",
      "execution_count": 4,
      "outputs": [
        {
          "data": {
            "text/plain": "   id  fullmove_number  ply_number  turn  san     lan  score  score_change  \\\n0   1                1           1     1   d4   d2-d4    -10            10   \n1   2                1           2     0   g6   g7-g6    118           128   \n2   3                2           3     1   c4   c2-c4     37            81   \n3   4                2           4     0  Bg7  Bf8-g7    106            69   \n4   5                3           5     1  Nf3  Ng1-f3     43            63   \n\n   score_change_category  move_count  ... guarded_pieces_centipawn_all  \\\n0                   0.20          20  ...                         5800   \n1                   2.56          20  ...                         5800   \n2                   1.62          28  ...                         5700   \n3                   1.38          21  ...                         5900   \n4                   1.26          30  ...                         5900   \n\n   attacked_guarded_pieces_centipawn_all  unopposed_threats_centipawn_all  \\\n0                                      0                                0   \n1                                      0                                0   \n2                                      0                                0   \n3                                    100                                0   \n4                                    100                                0   \n\n   threats_centipawn_all  attack_defense_relation1  attack_defense_relation2  \\\n0                      0                         0                      -600   \n1                      0                         0                      -500   \n2                      0                         0                     -1500   \n3                      0                       600                     -2100   \n4                      0                       900                     -1300   \n\n   material  pawn_ending  rook_ending game_id  \n0         0            0            0       1  \n1         0            0            0       1  \n2         0            0            0       1  \n3         0            0            0       1  \n4         0            0            0       1  \n\n[5 rows x 91 columns]",
            "text/html": "\u003cdiv\u003e\n\u003cstyle scoped\u003e\n    .dataframe tbody tr th:only-of-type {\n        vertical-align: middle;\n    }\n\n    .dataframe tbody tr th {\n        vertical-align: top;\n    }\n\n    .dataframe thead th {\n        text-align: right;\n    }\n\u003c/style\u003e\n\u003ctable border\u003d\"1\" class\u003d\"dataframe\"\u003e\n  \u003cthead\u003e\n    \u003ctr style\u003d\"text-align: right;\"\u003e\n      \u003cth\u003e\u003c/th\u003e\n      \u003cth\u003eid\u003c/th\u003e\n      \u003cth\u003efullmove_number\u003c/th\u003e\n      \u003cth\u003eply_number\u003c/th\u003e\n      \u003cth\u003eturn\u003c/th\u003e\n      \u003cth\u003esan\u003c/th\u003e\n      \u003cth\u003elan\u003c/th\u003e\n      \u003cth\u003escore\u003c/th\u003e\n      \u003cth\u003escore_change\u003c/th\u003e\n      \u003cth\u003escore_change_category\u003c/th\u003e\n      \u003cth\u003emove_count\u003c/th\u003e\n      \u003cth\u003e...\u003c/th\u003e\n      \u003cth\u003eguarded_pieces_centipawn_all\u003c/th\u003e\n      \u003cth\u003eattacked_guarded_pieces_centipawn_all\u003c/th\u003e\n      \u003cth\u003eunopposed_threats_centipawn_all\u003c/th\u003e\n      \u003cth\u003ethreats_centipawn_all\u003c/th\u003e\n      \u003cth\u003eattack_defense_relation1\u003c/th\u003e\n      \u003cth\u003eattack_defense_relation2\u003c/th\u003e\n      \u003cth\u003ematerial\u003c/th\u003e\n      \u003cth\u003epawn_ending\u003c/th\u003e\n      \u003cth\u003erook_ending\u003c/th\u003e\n      \u003cth\u003egame_id\u003c/th\u003e\n    \u003c/tr\u003e\n  \u003c/thead\u003e\n  \u003ctbody\u003e\n    \u003ctr\u003e\n      \u003cth\u003e0\u003c/th\u003e\n      \u003ctd\u003e1\u003c/td\u003e\n      \u003ctd\u003e1\u003c/td\u003e\n      \u003ctd\u003e1\u003c/td\u003e\n      \u003ctd\u003e1\u003c/td\u003e\n      \u003ctd\u003ed4\u003c/td\u003e\n      \u003ctd\u003ed2-d4\u003c/td\u003e\n      \u003ctd\u003e-10\u003c/td\u003e\n      \u003ctd\u003e10\u003c/td\u003e\n      \u003ctd\u003e0.20\u003c/td\u003e\n      \u003ctd\u003e20\u003c/td\u003e\n      \u003ctd\u003e...\u003c/td\u003e\n      \u003ctd\u003e5800\u003c/td\u003e\n      \u003ctd\u003e0\u003c/td\u003e\n      \u003ctd\u003e0\u003c/td\u003e\n      \u003ctd\u003e0\u003c/td\u003e\n      \u003ctd\u003e0\u003c/td\u003e\n      \u003ctd\u003e-600\u003c/td\u003e\n      \u003ctd\u003e0\u003c/td\u003e\n      \u003ctd\u003e0\u003c/td\u003e\n      \u003ctd\u003e0\u003c/td\u003e\n      \u003ctd\u003e1\u003c/td\u003e\n    \u003c/tr\u003e\n    \u003ctr\u003e\n      \u003cth\u003e1\u003c/th\u003e\n      \u003ctd\u003e2\u003c/td\u003e\n      \u003ctd\u003e1\u003c/td\u003e\n      \u003ctd\u003e2\u003c/td\u003e\n      \u003ctd\u003e0\u003c/td\u003e\n      \u003ctd\u003eg6\u003c/td\u003e\n      \u003ctd\u003eg7-g6\u003c/td\u003e\n      \u003ctd\u003e118\u003c/td\u003e\n      \u003ctd\u003e128\u003c/td\u003e\n      \u003ctd\u003e2.56\u003c/td\u003e\n      \u003ctd\u003e20\u003c/td\u003e\n      \u003ctd\u003e...\u003c/td\u003e\n      \u003ctd\u003e5800\u003c/td\u003e\n      \u003ctd\u003e0\u003c/td\u003e\n      \u003ctd\u003e0\u003c/td\u003e\n      \u003ctd\u003e0\u003c/td\u003e\n      \u003ctd\u003e0\u003c/td\u003e\n      \u003ctd\u003e-500\u003c/td\u003e\n      \u003ctd\u003e0\u003c/td\u003e\n      \u003ctd\u003e0\u003c/td\u003e\n      \u003ctd\u003e0\u003c/td\u003e\n      \u003ctd\u003e1\u003c/td\u003e\n    \u003c/tr\u003e\n    \u003ctr\u003e\n      \u003cth\u003e2\u003c/th\u003e\n      \u003ctd\u003e3\u003c/td\u003e\n      \u003ctd\u003e2\u003c/td\u003e\n      \u003ctd\u003e3\u003c/td\u003e\n      \u003ctd\u003e1\u003c/td\u003e\n      \u003ctd\u003ec4\u003c/td\u003e\n      \u003ctd\u003ec2-c4\u003c/td\u003e\n      \u003ctd\u003e37\u003c/td\u003e\n      \u003ctd\u003e81\u003c/td\u003e\n      \u003ctd\u003e1.62\u003c/td\u003e\n      \u003ctd\u003e28\u003c/td\u003e\n      \u003ctd\u003e...\u003c/td\u003e\n      \u003ctd\u003e5700\u003c/td\u003e\n      \u003ctd\u003e0\u003c/td\u003e\n      \u003ctd\u003e0\u003c/td\u003e\n      \u003ctd\u003e0\u003c/td\u003e\n      \u003ctd\u003e0\u003c/td\u003e\n      \u003ctd\u003e-1500\u003c/td\u003e\n      \u003ctd\u003e0\u003c/td\u003e\n      \u003ctd\u003e0\u003c/td\u003e\n      \u003ctd\u003e0\u003c/td\u003e\n      \u003ctd\u003e1\u003c/td\u003e\n    \u003c/tr\u003e\n    \u003ctr\u003e\n      \u003cth\u003e3\u003c/th\u003e\n      \u003ctd\u003e4\u003c/td\u003e\n      \u003ctd\u003e2\u003c/td\u003e\n      \u003ctd\u003e4\u003c/td\u003e\n      \u003ctd\u003e0\u003c/td\u003e\n      \u003ctd\u003eBg7\u003c/td\u003e\n      \u003ctd\u003eBf8-g7\u003c/td\u003e\n      \u003ctd\u003e106\u003c/td\u003e\n      \u003ctd\u003e69\u003c/td\u003e\n      \u003ctd\u003e1.38\u003c/td\u003e\n      \u003ctd\u003e21\u003c/td\u003e\n      \u003ctd\u003e...\u003c/td\u003e\n      \u003ctd\u003e5900\u003c/td\u003e\n      \u003ctd\u003e100\u003c/td\u003e\n      \u003ctd\u003e0\u003c/td\u003e\n      \u003ctd\u003e0\u003c/td\u003e\n      \u003ctd\u003e600\u003c/td\u003e\n      \u003ctd\u003e-2100\u003c/td\u003e\n      \u003ctd\u003e0\u003c/td\u003e\n      \u003ctd\u003e0\u003c/td\u003e\n      \u003ctd\u003e0\u003c/td\u003e\n      \u003ctd\u003e1\u003c/td\u003e\n    \u003c/tr\u003e\n    \u003ctr\u003e\n      \u003cth\u003e4\u003c/th\u003e\n      \u003ctd\u003e5\u003c/td\u003e\n      \u003ctd\u003e3\u003c/td\u003e\n      \u003ctd\u003e5\u003c/td\u003e\n      \u003ctd\u003e1\u003c/td\u003e\n      \u003ctd\u003eNf3\u003c/td\u003e\n      \u003ctd\u003eNg1-f3\u003c/td\u003e\n      \u003ctd\u003e43\u003c/td\u003e\n      \u003ctd\u003e63\u003c/td\u003e\n      \u003ctd\u003e1.26\u003c/td\u003e\n      \u003ctd\u003e30\u003c/td\u003e\n      \u003ctd\u003e...\u003c/td\u003e\n      \u003ctd\u003e5900\u003c/td\u003e\n      \u003ctd\u003e100\u003c/td\u003e\n      \u003ctd\u003e0\u003c/td\u003e\n      \u003ctd\u003e0\u003c/td\u003e\n      \u003ctd\u003e900\u003c/td\u003e\n      \u003ctd\u003e-1300\u003c/td\u003e\n      \u003ctd\u003e0\u003c/td\u003e\n      \u003ctd\u003e0\u003c/td\u003e\n      \u003ctd\u003e0\u003c/td\u003e\n      \u003ctd\u003e1\u003c/td\u003e\n    \u003c/tr\u003e\n  \u003c/tbody\u003e\n\u003c/table\u003e\n\u003cp\u003e5 rows × 91 columns\u003c/p\u003e\n\u003c/div\u003e"
          },
          "metadata": {},
          "output_type": "execute_result",
          "execution_count": 4
        }
      ],
      "source": "# load games and moves into dataframes \ndf_game_dirty \u003d pd.read_sql(\"SELECT * FROM game\", connection)\ndf_move_dirty \u003d pd.read_sql(\"SELECT * FROM move\", connection)\n\n# remove games that are either too short or too long\ndf_game \u003d remove_outlier(df_game_dirty, \"length\")\ndf_move \u003d df_move_dirty[df_move_dirty[\"game_id\"].isin(df_game[\"id\"])]\ndf_move.head()\n",
      "metadata": {
        "pycharm": {
          "metadata": false,
          "name": "#%%\n",
          "is_executing": false
        }
      }
    },
    {
      "cell_type": "code",
      "execution_count": 5,
      "outputs": [],
      "source": "# box_dirty \u003d sns.boxplot(y\u003ddf_move[\"best_move_score_diff\"])",
      "metadata": {
        "pycharm": {
          "metadata": false,
          "name": "#%%\n",
          "is_executing": false
        }
      }
    },
    {
      "cell_type": "code",
      "execution_count": 6,
      "outputs": [
        {
          "data": {
            "text/plain": "Text(0.5, 0, \u0027centipawn\u0027)"
          },
          "metadata": {},
          "output_type": "execute_result",
          "execution_count": 6
        }
      ],
      "source": "df_move_mistake_clean \u003d remove_outlier(df_move, \"best_move_score_diff\")\n#\nplt.tight_layout()\nf, axes \u003d plt.subplots(1, 2, figsize\u003d(8, 1.5))\nbox_dirty \u003d sns.boxplot(x\u003ddf_move[\"best_move_score_diff\"], ax\u003daxes[0])\naxes[0].set_title(\"Best move score difference, including outliers\")\naxes[0].set_xlabel(\"centipawn\")\nbox_clean \u003d sns.boxplot(x\u003ddf_move_mistake_clean[\"best_move_score_diff\"], ax\u003daxes[1])\naxes[1].set_title(\"Best move score difference, excluding outliers\")\naxes[1].set_xlabel(\"centipawn\")\n",
      "metadata": {
        "pycharm": {
          "metadata": false,
          "name": "#%%\n",
          "is_executing": false
        }
      }
    },
    {
      "cell_type": "code",
      "execution_count": 7,
      "outputs": [],
      "source": "f.tight_layout()\nf.savefig(\"boxplot_mistakes.pgf\")\nf.savefig(\"boxplot_mistakes.pdf\")\n",
      "metadata": {
        "pycharm": {
          "metadata": false,
          "name": "#%%\n",
          "is_executing": false
        }
      }
    },
    {
      "cell_type": "code",
      "execution_count": 8,
      "outputs": [],
      "source": "#scatter_mistake \u003d sns.scatterplot(x\u003d\"ply_number\", y\u003d\"best_move_score_diff\", data\u003ddf_move)",
      "metadata": {
        "pycharm": {
          "metadata": false,
          "name": "#%%\n",
          "is_executing": false
        }
      }
    },
    {
      "cell_type": "code",
      "execution_count": 9,
      "outputs": [],
      "source": "#scatter_mistake \u003d sns.scatterplot(x\u003d\"ply_number\", y\u003d\"best_move_score_diff\", data\u003ddf_move_mistake_clean)",
      "metadata": {
        "pycharm": {
          "metadata": false,
          "name": "#%%\n",
          "is_executing": false
        }
      }
    },
    {
      "cell_type": "code",
      "execution_count": 10,
      "outputs": [],
      "source": "\n#sns.distplot(df_move[\"best_move_score_diff\"])\n",
      "metadata": {
        "pycharm": {
          "metadata": false,
          "name": "#%%\n",
          "is_executing": false
        }
      }
    },
    {
      "cell_type": "code",
      "execution_count": 11,
      "outputs": [],
      "source": "#sns.distplot(df_move_mistake_clean[\"best_move_score_diff\"])",
      "metadata": {
        "pycharm": {
          "metadata": false,
          "name": "#%%\n",
          "is_executing": false
        }
      }
    },
    {
      "cell_type": "code",
      "execution_count": 12,
      "outputs": [],
      "source": "#sns.jointplot(x\u003d\"ply_number\", y\u003d\"best_move_score_diff\", data\u003ddf_move_mistake_clean, kind\u003d\"kde\");",
      "metadata": {
        "pycharm": {
          "metadata": false,
          "name": "#%%\n",
          "is_executing": false
        }
      }
    },
    {
      "cell_type": "code",
      "execution_count": 13,
      "outputs": [],
      "source": "\ndf_move_2040_dirty \u003d df_move[df_move[\"game_id\"].isin(df_game.query(\u0027length \u003e\u003d 20 \u0026 length \u003c\u003d 40\u0027)[\"id\"])]\ndf_move_2040 \u003d remove_outlier(df_move_2040_dirty, \"best_move_score_diff\")\ndf_move_4060_dirty \u003d df_move[df_move[\"game_id\"].isin(df_game.query(\u0027length \u003e\u003d 40 \u0026 length \u003c\u003d 60\u0027)[\"id\"])]\ndf_move_4060 \u003d remove_outlier(df_move_4060_dirty, \"best_move_score_diff\")\ndf_move_6080_dirty \u003d df_move[df_move[\"game_id\"].isin(df_game.query(\u0027length \u003e\u003d 60 \u0026 length \u003c\u003d 80\u0027)[\"id\"])]\ndf_move_6080 \u003d remove_outlier(df_move_6080_dirty, \"best_move_score_diff\")\ndf_move_80100_dirty \u003d df_move[df_move[\"game_id\"].isin(df_game.query(\u0027length \u003e\u003d 80 \u0026 length \u003c\u003d 100\u0027)[\"id\"])]\ndf_move_80100 \u003d remove_outlier(df_move_80100_dirty, \"best_move_score_diff\")\ndf_move_100120_dirty \u003d df_move[df_move[\"game_id\"].isin(df_game.query(\u0027length \u003e\u003d 100 \u0026 length \u003c\u003d 120\u0027)[\"id\"])]\ndf_move_100120 \u003d remove_outlier(df_move_100120_dirty, \"best_move_score_diff\")",
      "metadata": {
        "pycharm": {
          "metadata": false,
          "name": "#%%\n",
          "is_executing": false
        }
      }
    },
    {
      "cell_type": "code",
      "execution_count": 14,
      "outputs": [],
      "source": "#sns.jointplot(x\u003d\"ply_number\", y\u003d\"best_move_score_diff\", data\u003ddf_move_100120, kind\u003d\"kde\");",
      "metadata": {
        "pycharm": {
          "metadata": false,
          "name": "#%%\n",
          "is_executing": false
        }
      }
    },
    {
      "cell_type": "code",
      "execution_count": 15,
      "outputs": [
        {
          "data": {
            "text/plain": "Text(0, 0.5, \u0027centipawn\u0027)"
          },
          "metadata": {},
          "output_type": "execute_result",
          "execution_count": 15
        }
      ],
      "source": "\nf2, axes \u003d plt.subplots(2, 2, figsize\u003d(8, 8))\nsns.jointplot(x\u003d\"ply_number\", y\u003d\"best_move_score_diff\", data\u003ddf_move_2040, kind\u003d\"kde\", ax\u003daxes[0][0]);\naxes[0][0].set_title(\"Kernel density for mistakes in games with length 20 - 40\")\naxes[0][0].set_xlabel(\"ply\")\naxes[0][0].set_ylabel(\"centipawn\")\nsns.jointplot(x\u003d\"ply_number\", y\u003d\"best_move_score_diff\", data\u003ddf_move_4060, kind\u003d\"kde\", ax\u003daxes[0][1]);\naxes[0][1].set_title(\"Kernel density for mistakes in games with length 40 - 60\")\naxes[0][1].set_xlabel(\"ply\")\naxes[0][1].set_ylabel(\"centipawn\")\nsns.jointplot(x\u003d\"ply_number\", y\u003d\"best_move_score_diff\", data\u003ddf_move_6080, kind\u003d\"kde\", ax\u003daxes[1][0]);\naxes[1][0].set_title(\"Kernel density for mistakes in games with length 60 - 80\")\naxes[1][0].set_xlabel(\"ply\")\naxes[1][0].set_ylabel(\"centipawn\")\nsns.jointplot(x\u003d\"ply_number\", y\u003d\"best_move_score_diff\", data\u003ddf_move_80100, kind\u003d\"kde\", ax\u003daxes[1][1]);\naxes[1][1].set_title(\"Kernel density for mistakes in games with length 80 - 100\")\naxes[1][1].set_xlabel(\"ply\")\naxes[1][1].set_ylabel(\"centipawn\")\n",
      "metadata": {
        "pycharm": {
          "metadata": false,
          "name": "#%%\n",
          "is_executing": false
        }
      }
    },
    {
      "cell_type": "code",
      "execution_count": 16,
      "outputs": [],
      "source": "f2.tight_layout()\nf2.savefig(\"kdemistakelengths.pgf\")\nf2.savefig(\"kdemistakelengths.pdf\")\n",
      "metadata": {
        "pycharm": {
          "metadata": false,
          "name": "#%%\n",
          "is_executing": false
        }
      }
    },
    {
      "cell_type": "code",
      "execution_count": 17,
      "outputs": [
        {
          "data": {
            "text/plain": "\u003cmatplotlib.axes._subplots.AxesSubplot at 0x17f29290\u003e"
          },
          "metadata": {},
          "output_type": "execute_result",
          "execution_count": 17
        }
      ],
      "source": "sns.scatterplot(x\u003d\"best_move_score_diff\", y\u003d\"score_change\", data\u003ddf_move_mistake_clean)",
      "metadata": {
        "pycharm": {
          "metadata": false,
          "name": "#%%\n",
          "is_executing": false
        }
      }
    },
    {
      "cell_type": "code",
      "execution_count": 18,
      "outputs": [],
      "source": "df_move_80100_normal_dirty \u003d df_move[df_move[\"game_id\"].isin(df_game.query(\u0027length \u003e\u003d 80 \u0026 length \u003c\u003d 100\u0027)[\"id\"])].query(\u0027best_move_score_diff \u003c 30\u0027)\ndf_move_80100_normal \u003d remove_outlier(df_move_80100_normal_dirty, \"best_move_score_diff\")\ndf_move_80100_inacc_dirty \u003d df_move[df_move[\"game_id\"].isin(df_game.query(\u0027length \u003e\u003d 80 \u0026 length \u003c\u003d 100\u0027)[\"id\"])].query(\u0027best_move_score_diff \u003e\u003d 30 \u0026 best_move_score_diff \u003c 100\u0027)\ndf_move_80100_inacc \u003d remove_outlier(df_move_80100_inacc_dirty, \"best_move_score_diff\")\ndf_move_80100_mistake_dirty \u003d df_move[df_move[\"game_id\"].isin(df_game.query(\u0027length \u003e\u003d 80 \u0026 length \u003c\u003d 100\u0027)[\"id\"])].query(\u0027best_move_score_diff \u003e\u003d 100 \u0026 best_move_score_diff \u003c 300\u0027)\ndf_move_80100_mistake \u003d remove_outlier(df_move_80100_mistake_dirty, \"best_move_score_diff\")\ndf_move_80100_blunder_dirty \u003d df_move[df_move[\"game_id\"].isin(df_game.query(\u0027length \u003e\u003d 80 \u0026 length \u003c\u003d 100\u0027)[\"id\"])].query(\u0027best_move_score_diff \u003e\u003d 300\u0027)\ndf_move_80100_blunder \u003d remove_outlier(df_move_80100_blunder_dirty, \"best_move_score_diff\")",
      "metadata": {
        "pycharm": {
          "metadata": false,
          "name": "#%%\n",
          "is_executing": false
        }
      }
    },
    {
      "cell_type": "code",
      "execution_count": 19,
      "outputs": [],
      "source": "#sns.jointplot(x\u003d\"ply_number\", y\u003d\"best_move_score_diff\", data\u003ddf_move_100120, kind\u003d\"kde\");",
      "metadata": {
        "pycharm": {
          "metadata": false,
          "name": "#%%\n",
          "is_executing": false
        }
      }
    },
    {
      "cell_type": "code",
      "execution_count": 25,
      "outputs": [
        {
          "name": "stderr",
          "text": [
            "c:\\users\\stefan\\pycharmprojects\\chess_analytics\\venv\\lib\\site-packages\\seaborn\\axisgrid.py:1675: RuntimeWarning: More than 20 figures have been opened. Figures created through the pyplot interface (`matplotlib.pyplot.figure`) are retained until explicitly closed and may consume too much memory. (To control this warning, see the rcParam `figure.max_open_warning`).\n  f \u003d plt.figure(figsize\u003d(height, height))\n"
          ],
          "output_type": "stream"
        },
        {
          "data": {
            "text/plain": "Text(0, 0.5, \u0027centipawn\u0027)"
          },
          "metadata": {},
          "output_type": "execute_result",
          "execution_count": 25
        }
      ],
      "source": "\nf, axes \u003d plt.subplots(2, 2, figsize\u003d(8, 8))\nsns.jointplot(x\u003d\"ply_number\", y\u003d\"best_move_score_diff\", data\u003ddf_move_80100_normal, kind\u003d\"kde\", shade_lowest\u003dFalse, ax\u003daxes[0][0]);\naxes[0][0].set_title(\"Kernel density for normal moves in games with length 20 - 40\")\naxes[0][0].set_xlabel(\"ply\")\naxes[0][0].set_ylabel(\"centipawn\")\n#plot([0, ])\nsns.jointplot(x\u003d\"ply_number\", y\u003d\"best_move_score_diff\", data\u003ddf_move_80100_inacc, kind\u003d\"kde\", shade_lowest\u003dFalse, ax\u003daxes[0][1]);\naxes[0][1].set_title(\"Kernel density for inaccuracies in games with length 40 - 60\")\naxes[0][1].set_xlabel(\"ply\")\naxes[0][1].set_ylabel(\"centipawn\")\nsns.jointplot(x\u003d\"ply_number\", y\u003d\"best_move_score_diff\", data\u003ddf_move_80100_mistake, kind\u003d\"kde\", shade_lowest\u003dFalse, ax\u003daxes[1][0]);\naxes[1][0].set_title(\"Kernel density for mistakes in games with length 60 - 80\")\naxes[1][0].set_xlabel(\"ply\")\naxes[1][0].set_ylabel(\"centipawn\")\nsns.jointplot(x\u003d\"ply_number\", y\u003d\"best_move_score_diff\", data\u003ddf_move_80100_blunder, kind\u003d\"kde\", shade_lowest\u003dFalse, ax\u003daxes[1][1]);\naxes[1][1].set_title(\"Kernel density for blunders in games with length 80 - 100\")\naxes[1][1].set_xlabel(\"ply\")\naxes[1][1].set_ylabel(\"centipawn\")\n",
      "metadata": {
        "pycharm": {
          "metadata": false,
          "name": "#%%\n",
          "is_executing": false
        }
      }
    },
    {
      "cell_type": "code",
      "execution_count": 26,
      "outputs": [],
      "source": "f.tight_layout()\nf.savefig(\"kdemistakedist80100.pgf\")\nf.savefig(\"kdemistakedist80100.pdf\")",
      "metadata": {
        "pycharm": {
          "metadata": false,
          "name": "#%%\n",
          "is_executing": false
        }
      }
    },
    {
      "cell_type": "code",
      "execution_count": 21,
      "outputs": [
        {
          "data": {
            "text/plain": "Text(0.5, 49.99999999999995, \u0027centipawn\u0027)"
          },
          "metadata": {},
          "output_type": "execute_result",
          "execution_count": 21
        }
      ],
      "source": "\nsns.distplot(df_move_80100_normal[\"best_move_score_diff\"])\nsns.distplot(df_move_80100_inacc[\"best_move_score_diff\"])\nsns.distplot(df_move_80100_mistake[\"best_move_score_diff\"])\ndf_move_80100_blunder_cut \u003d df_move_80100_blunder.query(\u0027best_move_score_diff \u003c 500\u0027)\ndist_mistakes \u003d sns.distplot(df_move_80100_blunder_cut[\"best_move_score_diff\"])\ndist_mistakes.set_xlabel(\"centipawn\")",
      "metadata": {
        "pycharm": {
          "metadata": false,
          "name": "#%%\n",
          "is_executing": false
        }
      }
    },
    {
      "cell_type": "code",
      "execution_count": null,
      "outputs": [],
      "source": "\n",
      "metadata": {
        "pycharm": {
          "metadata": false,
          "name": "#%%\n"
        }
      }
    }
  ],
  "metadata": {
    "language_info": {
      "codemirror_mode": {
        "name": "ipython",
        "version": 2
      },
      "file_extension": ".py",
      "mimetype": "text/x-python",
      "name": "python",
      "nbconvert_exporter": "python",
      "pygments_lexer": "ipython2",
      "version": "2.7.6"
    },
    "kernelspec": {
      "name": "python3",
      "language": "python",
      "display_name": "Python 3"
    }
  },
  "nbformat": 4,
  "nbformat_minor": 0
}